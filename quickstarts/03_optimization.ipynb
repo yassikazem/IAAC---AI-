{
  "cells": [
    {
      "cell_type": "markdown",
      "metadata": {
        "id": "view-in-github",
        "colab_type": "text"
      },
      "source": [
        "<a href=\"https://colab.research.google.com/github/yassikazem/IAAC---AI-/blob/main/quickstarts/03_optimization.ipynb\" target=\"_parent\"><img src=\"https://colab.research.google.com/assets/colab-badge.svg\" alt=\"Open In Colab\"/></a>"
      ]
    },
    {
      "cell_type": "markdown",
      "metadata": {
        "id": "pmUIvYU0QopX"
      },
      "source": [
        "<a href=\"https://colab.research.google.com/github/STASYA00/IAAC2024_tutorials/blob/main/quickstarts/03_optimization.ipynb\" target=\"_parent\"><img src=\"https://colab.research.google.com/assets/colab-badge.svg\" alt=\"Open In Colab\"/></a> - Stasja's notebook"
      ]
    },
    {
      "cell_type": "code",
      "execution_count": 1,
      "metadata": {
        "id": "RB2h2NMbQopa",
        "outputId": "1c12e02f-2e2d-42fc-914e-af5ef3828cb2",
        "colab": {
          "base_uri": "https://localhost:8080/"
        }
      },
      "outputs": [
        {
          "output_type": "stream",
          "name": "stdout",
          "text": [
            "Collecting osmnx\n",
            "  Downloading osmnx-1.9.2-py3-none-any.whl (107 kB)\n",
            "\u001b[?25l     \u001b[90m━━━━━━━━━━━━━━━━━━━━━━━━━━━━━━━━━━━━━━━━\u001b[0m \u001b[32m0.0/107.4 kB\u001b[0m \u001b[31m?\u001b[0m eta \u001b[36m-:--:--\u001b[0m\r\u001b[2K     \u001b[90m━━━━━━━━━━━━━━━━━━━━━━━━━━━━━━━━━━━━━━━━\u001b[0m \u001b[32m107.4/107.4 kB\u001b[0m \u001b[31m3.7 MB/s\u001b[0m eta \u001b[36m0:00:00\u001b[0m\n",
            "\u001b[?25hRequirement already satisfied: geopy in /usr/local/lib/python3.10/dist-packages (2.3.0)\n",
            "Requirement already satisfied: scikit-learn in /usr/local/lib/python3.10/dist-packages (1.2.2)\n",
            "Collecting ortools\n",
            "  Downloading ortools-9.9.3963-cp310-cp310-manylinux_2_17_x86_64.manylinux2014_x86_64.whl (24.8 MB)\n",
            "\u001b[2K     \u001b[90m━━━━━━━━━━━━━━━━━━━━━━━━━━━━━━━━━━━━━━━━\u001b[0m \u001b[32m24.8/24.8 MB\u001b[0m \u001b[31m36.6 MB/s\u001b[0m eta \u001b[36m0:00:00\u001b[0m\n",
            "\u001b[?25hRequirement already satisfied: ipykernel in /usr/local/lib/python3.10/dist-packages (5.5.6)\n",
            "Requirement already satisfied: plotly in /usr/local/lib/python3.10/dist-packages (5.15.0)\n",
            "Requirement already satisfied: nbformat in /usr/local/lib/python3.10/dist-packages (5.10.4)\n",
            "Requirement already satisfied: geopandas>=0.12 in /usr/local/lib/python3.10/dist-packages (from osmnx) (0.13.2)\n",
            "Requirement already satisfied: networkx>=2.5 in /usr/local/lib/python3.10/dist-packages (from osmnx) (3.3)\n",
            "Requirement already satisfied: numpy>=1.20 in /usr/local/lib/python3.10/dist-packages (from osmnx) (1.25.2)\n",
            "Requirement already satisfied: pandas>=1.1 in /usr/local/lib/python3.10/dist-packages (from osmnx) (2.0.3)\n",
            "Requirement already satisfied: requests>=2.27 in /usr/local/lib/python3.10/dist-packages (from osmnx) (2.31.0)\n",
            "Requirement already satisfied: shapely>=2.0 in /usr/local/lib/python3.10/dist-packages (from osmnx) (2.0.4)\n",
            "Requirement already satisfied: geographiclib<3,>=1.52 in /usr/local/lib/python3.10/dist-packages (from geopy) (2.0)\n",
            "Requirement already satisfied: scipy>=1.3.2 in /usr/local/lib/python3.10/dist-packages (from scikit-learn) (1.11.4)\n",
            "Requirement already satisfied: joblib>=1.1.1 in /usr/local/lib/python3.10/dist-packages (from scikit-learn) (1.4.0)\n",
            "Requirement already satisfied: threadpoolctl>=2.0.0 in /usr/local/lib/python3.10/dist-packages (from scikit-learn) (3.4.0)\n",
            "Collecting absl-py>=2.0.0 (from ortools)\n",
            "  Downloading absl_py-2.1.0-py3-none-any.whl (133 kB)\n",
            "\u001b[2K     \u001b[90m━━━━━━━━━━━━━━━━━━━━━━━━━━━━━━━━━━━━━━━━\u001b[0m \u001b[32m133.7/133.7 kB\u001b[0m \u001b[31m10.5 MB/s\u001b[0m eta \u001b[36m0:00:00\u001b[0m\n",
            "\u001b[?25hCollecting protobuf>=4.25.3 (from ortools)\n",
            "  Downloading protobuf-5.26.1-cp37-abi3-manylinux2014_x86_64.whl (302 kB)\n",
            "\u001b[2K     \u001b[90m━━━━━━━━━━━━━━━━━━━━━━━━━━━━━━━━━━━━━━━━\u001b[0m \u001b[32m302.8/302.8 kB\u001b[0m \u001b[31m23.3 MB/s\u001b[0m eta \u001b[36m0:00:00\u001b[0m\n",
            "\u001b[?25hCollecting immutabledict>=3.0.0 (from ortools)\n",
            "  Downloading immutabledict-4.2.0-py3-none-any.whl (4.7 kB)\n",
            "Requirement already satisfied: ipython-genutils in /usr/local/lib/python3.10/dist-packages (from ipykernel) (0.2.0)\n",
            "Requirement already satisfied: ipython>=5.0.0 in /usr/local/lib/python3.10/dist-packages (from ipykernel) (7.34.0)\n",
            "Requirement already satisfied: traitlets>=4.1.0 in /usr/local/lib/python3.10/dist-packages (from ipykernel) (5.7.1)\n",
            "Requirement already satisfied: jupyter-client in /usr/local/lib/python3.10/dist-packages (from ipykernel) (6.1.12)\n",
            "Requirement already satisfied: tornado>=4.2 in /usr/local/lib/python3.10/dist-packages (from ipykernel) (6.3.3)\n",
            "Requirement already satisfied: tenacity>=6.2.0 in /usr/local/lib/python3.10/dist-packages (from plotly) (8.2.3)\n",
            "Requirement already satisfied: packaging in /usr/local/lib/python3.10/dist-packages (from plotly) (24.0)\n",
            "Requirement already satisfied: fastjsonschema>=2.15 in /usr/local/lib/python3.10/dist-packages (from nbformat) (2.19.1)\n",
            "Requirement already satisfied: jsonschema>=2.6 in /usr/local/lib/python3.10/dist-packages (from nbformat) (4.19.2)\n",
            "Requirement already satisfied: jupyter-core!=5.0.*,>=4.12 in /usr/local/lib/python3.10/dist-packages (from nbformat) (5.7.2)\n",
            "Requirement already satisfied: fiona>=1.8.19 in /usr/local/lib/python3.10/dist-packages (from geopandas>=0.12->osmnx) (1.9.6)\n",
            "Requirement already satisfied: pyproj>=3.0.1 in /usr/local/lib/python3.10/dist-packages (from geopandas>=0.12->osmnx) (3.6.1)\n",
            "Requirement already satisfied: setuptools>=18.5 in /usr/local/lib/python3.10/dist-packages (from ipython>=5.0.0->ipykernel) (67.7.2)\n",
            "Collecting jedi>=0.16 (from ipython>=5.0.0->ipykernel)\n",
            "  Downloading jedi-0.19.1-py2.py3-none-any.whl (1.6 MB)\n",
            "\u001b[2K     \u001b[90m━━━━━━━━━━━━━━━━━━━━━━━━━━━━━━━━━━━━━━━━\u001b[0m \u001b[32m1.6/1.6 MB\u001b[0m \u001b[31m36.6 MB/s\u001b[0m eta \u001b[36m0:00:00\u001b[0m\n",
            "\u001b[?25hRequirement already satisfied: decorator in /usr/local/lib/python3.10/dist-packages (from ipython>=5.0.0->ipykernel) (4.4.2)\n",
            "Requirement already satisfied: pickleshare in /usr/local/lib/python3.10/dist-packages (from ipython>=5.0.0->ipykernel) (0.7.5)\n",
            "Requirement already satisfied: prompt-toolkit!=3.0.0,!=3.0.1,<3.1.0,>=2.0.0 in /usr/local/lib/python3.10/dist-packages (from ipython>=5.0.0->ipykernel) (3.0.43)\n",
            "Requirement already satisfied: pygments in /usr/local/lib/python3.10/dist-packages (from ipython>=5.0.0->ipykernel) (2.16.1)\n",
            "Requirement already satisfied: backcall in /usr/local/lib/python3.10/dist-packages (from ipython>=5.0.0->ipykernel) (0.2.0)\n",
            "Requirement already satisfied: matplotlib-inline in /usr/local/lib/python3.10/dist-packages (from ipython>=5.0.0->ipykernel) (0.1.7)\n",
            "Requirement already satisfied: pexpect>4.3 in /usr/local/lib/python3.10/dist-packages (from ipython>=5.0.0->ipykernel) (4.9.0)\n",
            "Requirement already satisfied: attrs>=22.2.0 in /usr/local/lib/python3.10/dist-packages (from jsonschema>=2.6->nbformat) (23.2.0)\n",
            "Requirement already satisfied: jsonschema-specifications>=2023.03.6 in /usr/local/lib/python3.10/dist-packages (from jsonschema>=2.6->nbformat) (2023.12.1)\n",
            "Requirement already satisfied: referencing>=0.28.4 in /usr/local/lib/python3.10/dist-packages (from jsonschema>=2.6->nbformat) (0.34.0)\n",
            "Requirement already satisfied: rpds-py>=0.7.1 in /usr/local/lib/python3.10/dist-packages (from jsonschema>=2.6->nbformat) (0.18.0)\n",
            "Requirement already satisfied: platformdirs>=2.5 in /usr/local/lib/python3.10/dist-packages (from jupyter-core!=5.0.*,>=4.12->nbformat) (4.2.0)\n",
            "Requirement already satisfied: python-dateutil>=2.8.2 in /usr/local/lib/python3.10/dist-packages (from pandas>=1.1->osmnx) (2.8.2)\n",
            "Requirement already satisfied: pytz>=2020.1 in /usr/local/lib/python3.10/dist-packages (from pandas>=1.1->osmnx) (2023.4)\n",
            "Requirement already satisfied: tzdata>=2022.1 in /usr/local/lib/python3.10/dist-packages (from pandas>=1.1->osmnx) (2024.1)\n",
            "Requirement already satisfied: charset-normalizer<4,>=2 in /usr/local/lib/python3.10/dist-packages (from requests>=2.27->osmnx) (3.3.2)\n",
            "Requirement already satisfied: idna<4,>=2.5 in /usr/local/lib/python3.10/dist-packages (from requests>=2.27->osmnx) (3.7)\n",
            "Requirement already satisfied: urllib3<3,>=1.21.1 in /usr/local/lib/python3.10/dist-packages (from requests>=2.27->osmnx) (2.0.7)\n",
            "Requirement already satisfied: certifi>=2017.4.17 in /usr/local/lib/python3.10/dist-packages (from requests>=2.27->osmnx) (2024.2.2)\n",
            "Requirement already satisfied: pyzmq>=13 in /usr/local/lib/python3.10/dist-packages (from jupyter-client->ipykernel) (23.2.1)\n",
            "Requirement already satisfied: click~=8.0 in /usr/local/lib/python3.10/dist-packages (from fiona>=1.8.19->geopandas>=0.12->osmnx) (8.1.7)\n",
            "Requirement already satisfied: click-plugins>=1.0 in /usr/local/lib/python3.10/dist-packages (from fiona>=1.8.19->geopandas>=0.12->osmnx) (1.1.1)\n",
            "Requirement already satisfied: cligj>=0.5 in /usr/local/lib/python3.10/dist-packages (from fiona>=1.8.19->geopandas>=0.12->osmnx) (0.7.2)\n",
            "Requirement already satisfied: six in /usr/local/lib/python3.10/dist-packages (from fiona>=1.8.19->geopandas>=0.12->osmnx) (1.16.0)\n",
            "Requirement already satisfied: parso<0.9.0,>=0.8.3 in /usr/local/lib/python3.10/dist-packages (from jedi>=0.16->ipython>=5.0.0->ipykernel) (0.8.4)\n",
            "Requirement already satisfied: ptyprocess>=0.5 in /usr/local/lib/python3.10/dist-packages (from pexpect>4.3->ipython>=5.0.0->ipykernel) (0.7.0)\n",
            "Requirement already satisfied: wcwidth in /usr/local/lib/python3.10/dist-packages (from prompt-toolkit!=3.0.0,!=3.0.1,<3.1.0,>=2.0.0->ipython>=5.0.0->ipykernel) (0.2.13)\n",
            "Installing collected packages: protobuf, jedi, immutabledict, absl-py, ortools, osmnx\n",
            "  Attempting uninstall: protobuf\n",
            "    Found existing installation: protobuf 3.20.3\n",
            "    Uninstalling protobuf-3.20.3:\n",
            "      Successfully uninstalled protobuf-3.20.3\n",
            "  Attempting uninstall: absl-py\n",
            "    Found existing installation: absl-py 1.4.0\n",
            "    Uninstalling absl-py-1.4.0:\n",
            "      Successfully uninstalled absl-py-1.4.0\n",
            "\u001b[31mERROR: pip's dependency resolver does not currently take into account all the packages that are installed. This behaviour is the source of the following dependency conflicts.\n",
            "google-ai-generativelanguage 0.6.2 requires protobuf!=3.20.0,!=3.20.1,!=4.21.0,!=4.21.1,!=4.21.2,!=4.21.3,!=4.21.4,!=4.21.5,<5.0.0dev,>=3.19.5, but you have protobuf 5.26.1 which is incompatible.\n",
            "google-api-core 2.11.1 requires protobuf!=3.20.0,!=3.20.1,!=4.21.0,!=4.21.1,!=4.21.2,!=4.21.3,!=4.21.4,!=4.21.5,<5.0.0.dev0,>=3.19.5, but you have protobuf 5.26.1 which is incompatible.\n",
            "google-cloud-aiplatform 1.48.0 requires protobuf!=3.20.0,!=3.20.1,!=4.21.0,!=4.21.1,!=4.21.2,!=4.21.3,!=4.21.4,!=4.21.5,<5.0.0dev,>=3.19.5, but you have protobuf 5.26.1 which is incompatible.\n",
            "google-cloud-bigquery 3.12.0 requires protobuf!=3.20.0,!=3.20.1,!=4.21.0,!=4.21.1,!=4.21.2,!=4.21.3,!=4.21.4,!=4.21.5,<5.0.0dev,>=3.19.5, but you have protobuf 5.26.1 which is incompatible.\n",
            "google-cloud-bigquery-connection 1.12.1 requires protobuf!=3.20.0,!=3.20.1,!=4.21.0,!=4.21.1,!=4.21.2,!=4.21.3,!=4.21.4,!=4.21.5,<5.0.0dev,>=3.19.5, but you have protobuf 5.26.1 which is incompatible.\n",
            "google-cloud-bigquery-storage 2.24.0 requires protobuf!=3.20.0,!=3.20.1,!=4.21.0,!=4.21.1,!=4.21.2,!=4.21.3,!=4.21.4,!=4.21.5,<5.0.0dev,>=3.19.5, but you have protobuf 5.26.1 which is incompatible.\n",
            "google-cloud-datastore 2.15.2 requires protobuf!=3.20.0,!=3.20.1,!=4.21.0,!=4.21.1,!=4.21.2,!=4.21.3,!=4.21.4,!=4.21.5,<5.0.0dev,>=3.19.5, but you have protobuf 5.26.1 which is incompatible.\n",
            "google-cloud-firestore 2.11.1 requires protobuf!=3.20.0,!=3.20.1,!=4.21.0,!=4.21.1,!=4.21.2,!=4.21.3,!=4.21.4,!=4.21.5,<5.0.0dev,>=3.19.5, but you have protobuf 5.26.1 which is incompatible.\n",
            "google-cloud-functions 1.13.3 requires protobuf!=3.20.0,!=3.20.1,!=4.21.0,!=4.21.1,!=4.21.2,!=4.21.3,!=4.21.4,!=4.21.5,<5.0.0dev,>=3.19.5, but you have protobuf 5.26.1 which is incompatible.\n",
            "google-cloud-iam 2.15.0 requires protobuf!=3.20.0,!=3.20.1,!=4.21.0,!=4.21.1,!=4.21.2,!=4.21.3,!=4.21.4,!=4.21.5,<5.0.0dev,>=3.19.5, but you have protobuf 5.26.1 which is incompatible.\n",
            "google-cloud-language 2.13.3 requires protobuf!=3.20.0,!=3.20.1,!=4.21.0,!=4.21.1,!=4.21.2,!=4.21.3,!=4.21.4,!=4.21.5,<5.0.0dev,>=3.19.5, but you have protobuf 5.26.1 which is incompatible.\n",
            "google-cloud-resource-manager 1.12.3 requires protobuf!=3.20.0,!=3.20.1,!=4.21.0,!=4.21.1,!=4.21.2,!=4.21.3,!=4.21.4,!=4.21.5,<5.0.0dev,>=3.19.5, but you have protobuf 5.26.1 which is incompatible.\n",
            "google-cloud-translate 3.11.3 requires protobuf!=3.20.0,!=3.20.1,!=4.21.0,!=4.21.1,!=4.21.2,!=4.21.3,!=4.21.4,!=4.21.5,<5.0.0dev,>=3.19.5, but you have protobuf 5.26.1 which is incompatible.\n",
            "googleapis-common-protos 1.63.0 requires protobuf!=3.20.0,!=3.20.1,!=4.21.1,!=4.21.2,!=4.21.3,!=4.21.4,!=4.21.5,<5.0.0.dev0,>=3.19.5, but you have protobuf 5.26.1 which is incompatible.\n",
            "grpc-google-iam-v1 0.13.0 requires protobuf!=3.20.0,!=3.20.1,!=4.21.1,!=4.21.2,!=4.21.3,!=4.21.4,!=4.21.5,<5.0.0dev,>=3.19.5, but you have protobuf 5.26.1 which is incompatible.\n",
            "proto-plus 1.23.0 requires protobuf<5.0.0dev,>=3.19.0, but you have protobuf 5.26.1 which is incompatible.\n",
            "tensorflow 2.15.0 requires protobuf!=4.21.0,!=4.21.1,!=4.21.2,!=4.21.3,!=4.21.4,!=4.21.5,<5.0.0dev,>=3.20.3, but you have protobuf 5.26.1 which is incompatible.\n",
            "tensorflow-metadata 1.14.0 requires absl-py<2.0.0,>=0.9, but you have absl-py 2.1.0 which is incompatible.\n",
            "tensorflow-metadata 1.14.0 requires protobuf<4.21,>=3.20.3, but you have protobuf 5.26.1 which is incompatible.\u001b[0m\u001b[31m\n",
            "\u001b[0mSuccessfully installed absl-py-2.1.0 immutabledict-4.2.0 jedi-0.19.1 ortools-9.9.3963 osmnx-1.9.2 protobuf-5.26.1\n"
          ]
        }
      ],
      "source": [
        "!pip install osmnx geopy scikit-learn ortools ipykernel plotly nbformat"
      ]
    },
    {
      "cell_type": "code",
      "execution_count": 2,
      "metadata": {
        "id": "LOK17eGJQopc"
      },
      "outputs": [],
      "source": [
        "# !pip install --upgrade nbformat"
      ]
    },
    {
      "cell_type": "markdown",
      "metadata": {
        "id": "Csayx9foQopc"
      },
      "source": [
        "* [Ortools package](https://developers.google.com/optimization)\n",
        "* [What is optimization](https://en.wikipedia.org/wiki/Mathematical_optimization)\n",
        "* [Video on what optimization is](https://youtu.be/AM6BY4btj-M?t=170&si=FUAW-bzml27y61zq) - only 2.50 - 6.00"
      ]
    },
    {
      "cell_type": "markdown",
      "metadata": {
        "id": "Iu-elrsJQopd"
      },
      "source": [
        "## 🕍Optimizing house placement"
      ]
    },
    {
      "cell_type": "code",
      "execution_count": 77,
      "metadata": {
        "id": "HkQQwWvnQopd"
      },
      "outputs": [],
      "source": [
        "from shapely.geometry import Polygon\n",
        "import matplotlib.pyplot as plt\n",
        "import seaborn as sns\n",
        "sns.set_style()"
      ]
    },
    {
      "cell_type": "code",
      "execution_count": 76,
      "metadata": {
        "id": "mLhoYJv6Qopd",
        "outputId": "38751773-d626-4221-caf9-fe93114860cf",
        "colab": {
          "base_uri": "https://localhost:8080/",
          "height": 122
        }
      },
      "outputs": [
        {
          "output_type": "execute_result",
          "data": {
            "text/plain": [
              "<POLYGON ((0 0, 150 0, 150 50, 0 50, 0 0))>"
            ],
            "image/svg+xml": "<svg xmlns=\"http://www.w3.org/2000/svg\" xmlns:xlink=\"http://www.w3.org/1999/xlink\" width=\"162.0\" height=\"100.0\" viewBox=\"-6.0 -6.0 162.0 62.0\" preserveAspectRatio=\"xMinYMin meet\"><g transform=\"matrix(1,0,0,-1,0,50.0)\"><path fill-rule=\"evenodd\" fill=\"#66cc99\" stroke=\"#555555\" stroke-width=\"2.0\" opacity=\"0.6\" d=\"M 0.0,0.0 L 150.0,0.0 L 150.0,50.0 L 0.0,50.0 L 0.0,0.0 z\" /></g></svg>"
          },
          "metadata": {},
          "execution_count": 76
        }
      ],
      "source": [
        "width = 150\n",
        "depth = 50\n",
        "x1 = 0\n",
        "y1 = 0\n",
        "coords = [(x1, y1), (x1 + width, y1), (x1+width, y1+depth), (x1, y1+depth), (x1, y1)]\n",
        "house = Polygon(coords)\n",
        "house"
      ]
    },
    {
      "cell_type": "markdown",
      "metadata": {
        "id": "PQaVVKy4Qope"
      },
      "source": [
        "Site geometry"
      ]
    },
    {
      "cell_type": "code",
      "execution_count": 75,
      "metadata": {
        "id": "nlUSxnIPQopf",
        "outputId": "062ef29b-03ad-4870-bc6f-c052b4bb67fe",
        "colab": {
          "base_uri": "https://localhost:8080/",
          "height": 192
        }
      },
      "outputs": [
        {
          "output_type": "execute_result",
          "data": {
            "text/plain": [
              "<POLYGON ((0 0, 70 0, 70 50, 250 50, 250 150, 0 150, 0 0))>"
            ],
            "image/svg+xml": "<svg xmlns=\"http://www.w3.org/2000/svg\" xmlns:xlink=\"http://www.w3.org/1999/xlink\" width=\"270.0\" height=\"170.0\" viewBox=\"-10.0 -10.0 270.0 170.0\" preserveAspectRatio=\"xMinYMin meet\"><g transform=\"matrix(1,0,0,-1,0,150.0)\"><path fill-rule=\"evenodd\" fill=\"#66cc99\" stroke=\"#555555\" stroke-width=\"2.0\" opacity=\"0.6\" d=\"M 0.0,0.0 L 70.0,0.0 L 70.0,50.0 L 250.0,50.0 L 250.0,150.0 L 0.0,150.0 L 0.0,0.0 z\" /></g></svg>"
          },
          "metadata": {},
          "execution_count": 75
        }
      ],
      "source": [
        "coords = [(0, 0), (70, 0), (70, 50), (250, 50), (250, 150), (0, 150), (0,0)]\n",
        "site = Polygon(coords)\n",
        "site"
      ]
    },
    {
      "cell_type": "markdown",
      "metadata": {
        "id": "c2Gi-MVCQopf"
      },
      "source": [
        "### Optimizing house position"
      ]
    },
    {
      "cell_type": "markdown",
      "metadata": {
        "id": "6FB5tu38Qopf"
      },
      "source": [
        "We will be using [CP-SAT](https://developers.google.com/optimization/cp/cp_solver) solver made available to general public by Google."
      ]
    },
    {
      "cell_type": "code",
      "execution_count": 6,
      "metadata": {
        "id": "ghFq1KwbQopf"
      },
      "outputs": [],
      "source": [
        "from ortools.sat.python import cp_model\n",
        "model = cp_model.CpModel()"
      ]
    },
    {
      "cell_type": "markdown",
      "metadata": {
        "id": "nodea5umQopg"
      },
      "source": [
        "Let's place our house onto the site. The constraints would be that:\n",
        "* all house coordinates are within the site polygon"
      ]
    },
    {
      "cell_type": "code",
      "execution_count": 78,
      "metadata": {
        "id": "m5lna56OQopg",
        "outputId": "66909749-1d93-4e30-9f4f-50adf7537014",
        "colab": {
          "base_uri": "https://localhost:8080/"
        }
      },
      "outputs": [
        {
          "output_type": "execute_result",
          "data": {
            "text/plain": [
              "(0.0, 0.0, 250.0, 150.0)"
            ]
          },
          "metadata": {},
          "execution_count": 78
        }
      ],
      "source": [
        "site.bounds"
      ]
    },
    {
      "cell_type": "code",
      "execution_count": 79,
      "metadata": {
        "id": "uF9zHr22Qopg",
        "outputId": "338f2d07-23ec-4cc6-87f9-7fa8c481cb2f",
        "colab": {
          "base_uri": "https://localhost:8080/"
        }
      },
      "outputs": [
        {
          "output_type": "execute_result",
          "data": {
            "text/plain": [
              "x1(0..250)"
            ]
          },
          "metadata": {},
          "execution_count": 79
        }
      ],
      "source": [
        "# Int var says that we create an integer variable that can have any value in a certain range.\n",
        "# This range is given when we define the variable: here it is 0 and the maximum coordinate of our site (250):\n",
        "x1 = model.NewIntVar(0, int(max(site.bounds)), 'x1')  # last argument is the name of the variable in the model\n",
        "x1"
      ]
    },
    {
      "cell_type": "code",
      "execution_count": 80,
      "metadata": {
        "id": "C0ggWvoRQopg"
      },
      "outputs": [],
      "source": [
        "# The rest of the house coordinates\n",
        "x2 = model.NewIntVar(0, int(max(site.bounds)), 'x2')\n",
        "y1 = model.NewIntVar(0, int(max(site.bounds)), 'y1')\n",
        "y2 = model.NewIntVar(0, int(max(site.bounds)), 'y2')"
      ]
    },
    {
      "cell_type": "markdown",
      "metadata": {
        "id": "VbGuZifDQoph"
      },
      "source": [
        "Now let's add the relationship between the coordinates and tell our model that x2 - x1 = width"
      ]
    },
    {
      "cell_type": "code",
      "execution_count": 81,
      "metadata": {
        "id": "YeJiMb_7Qoph",
        "outputId": "37afc4f2-b3bd-4d65-a4a9-e90875abe91a",
        "colab": {
          "base_uri": "https://localhost:8080/"
        }
      },
      "outputs": [
        {
          "output_type": "execute_result",
          "data": {
            "text/plain": [
              "<ortools.sat.python.cp_model.Constraint at 0x7d5a1f537f10>"
            ]
          },
          "metadata": {},
          "execution_count": 81
        }
      ],
      "source": [
        "model.Add(x2-x1==width)\n",
        "model.Add(y2-y1==depth)\n",
        "\n",
        "# Note that our house does not rotate at the moment. We are only placing it vertically."
      ]
    },
    {
      "cell_type": "code",
      "execution_count": 82,
      "metadata": {
        "id": "dColS42yQoph",
        "outputId": "588b166b-584d-4497-a79a-26eaa90968b4",
        "colab": {
          "base_uri": "https://localhost:8080/"
        }
      },
      "outputs": [
        {
          "output_type": "execute_result",
          "data": {
            "text/plain": [
              "<ortools.sat.python.cp_model.Constraint at 0x7d5a1f535a20>"
            ]
          },
          "metadata": {},
          "execution_count": 82
        }
      ],
      "source": [
        "model.Add(x1 < int(site.bounds[2]))\n",
        "model.Add(y1 < int(site.bounds[3]))\n",
        "model.Add(x2 < int(site.bounds[2]))\n",
        "model.Add(y2 < int(site.bounds[3]))"
      ]
    },
    {
      "cell_type": "code",
      "execution_count": 83,
      "metadata": {
        "id": "cdHL02n5Qoph"
      },
      "outputs": [],
      "source": [
        "model.Minimize(y2)"
      ]
    },
    {
      "cell_type": "code",
      "execution_count": 84,
      "metadata": {
        "id": "eZCoY7QkQoph",
        "outputId": "2c00b47f-a3cb-4830-dc4b-ebf52b1b9b0a",
        "colab": {
          "base_uri": "https://localhost:8080/"
        }
      },
      "outputs": [
        {
          "output_type": "execute_result",
          "data": {
            "text/plain": [
              "4"
            ]
          },
          "metadata": {},
          "execution_count": 84
        }
      ],
      "source": [
        "solver = cp_model.CpSolver()\n",
        "status = solver.Solve(model)\n",
        "status"
      ]
    },
    {
      "cell_type": "code",
      "execution_count": 85,
      "metadata": {
        "id": "UNNemMPVQoph",
        "outputId": "80c2fe01-3b14-4743-92d7-fddaef1adbe5",
        "colab": {
          "base_uri": "https://localhost:8080/"
        }
      },
      "outputs": [
        {
          "output_type": "stream",
          "name": "stdout",
          "text": [
            "x1: 0\n",
            "x2: 150\n",
            "y1: 0\n",
            "y2: 50\n"
          ]
        }
      ],
      "source": [
        "print(\"x1:\", solver.Value(x1))\n",
        "print(\"x2:\", solver.Value(x2))\n",
        "print(\"y1:\", solver.Value(y1))\n",
        "print(\"y2:\", solver.Value(y2))"
      ]
    },
    {
      "cell_type": "code",
      "execution_count": 86,
      "metadata": {
        "id": "MrJW-GuiQoph"
      },
      "outputs": [],
      "source": [
        "house_location = Polygon([\n",
        "    (solver.Value(x1), solver.Value(y1)),\n",
        "    (solver.Value(x2), solver.Value(y1)),\n",
        "    (solver.Value(x2), solver.Value(y2)),\n",
        "    (solver.Value(x1), solver.Value(y2)),\n",
        "    (solver.Value(x1), solver.Value(y1))])"
      ]
    },
    {
      "cell_type": "code",
      "execution_count": 87,
      "metadata": {
        "id": "IjEVrCVDQopi",
        "outputId": "4e4d7f3b-c095-4f9c-ebc5-8f673aa8cc52",
        "colab": {
          "base_uri": "https://localhost:8080/",
          "height": 447
        }
      },
      "outputs": [
        {
          "output_type": "execute_result",
          "data": {
            "text/plain": [
              "[<matplotlib.lines.Line2D at 0x7d5a1f36e380>]"
            ]
          },
          "metadata": {},
          "execution_count": 87
        },
        {
          "output_type": "display_data",
          "data": {
            "text/plain": [
              "<Figure size 640x480 with 1 Axes>"
            ],
            "image/png": "[encoded data removed]"
          },
          "metadata": {}
        }
      ],
      "source": [
        "plt.plot(*site.exterior.xy)\n",
        "plt.plot(*house_location.exterior.xy)"
      ]
    },
    {
      "cell_type": "code",
      "execution_count": 89,
      "metadata": {
        "id": "7eHUX1YfQopi"
      },
      "outputs": [],
      "source": [
        "def plot_result(slvr):\n",
        "    print(\"x1:\", slvr.Value(x1))\n",
        "    print(\"x2:\", slvr.Value(x2))\n",
        "    print(\"y1:\", slvr.Value(y1))\n",
        "    print(\"y2:\", slvr.Value(y2))\n",
        "\n",
        "    house_location = Polygon([\n",
        "    (solver.Value(x1), solver.Value(y1)),\n",
        "    (solver.Value(x2), solver.Value(y1)),\n",
        "    (solver.Value(x2), solver.Value(y2)),\n",
        "    (solver.Value(x1), solver.Value(y2)),\n",
        "    (solver.Value(x1), solver.Value(y1))])\n",
        "\n",
        "    plt.plot(*site.exterior.xy)\n",
        "    plt.plot(*house_location.exterior.xy)\n"
      ]
    },
    {
      "cell_type": "markdown",
      "metadata": {
        "id": "AgQ_qq8NQopi"
      },
      "source": [
        "Let's adjust our constraints:"
      ]
    },
    {
      "cell_type": "code",
      "execution_count": 90,
      "metadata": {
        "id": "GyH8YDQmQopi",
        "outputId": "8b821746-ae60-4d32-a2fa-decfd80b88fb",
        "colab": {
          "base_uri": "https://localhost:8080/"
        }
      },
      "outputs": [
        {
          "output_type": "execute_result",
          "data": {
            "text/plain": [
              "<ortools.sat.python.cp_model.Constraint at 0x7d5a1f2c85e0>"
            ]
          },
          "metadata": {},
          "execution_count": 90
        }
      ],
      "source": [
        "model = cp_model.CpModel()\n",
        "x1 = model.NewIntVar(0, int(max(site.bounds)), 'x1')\n",
        "x2 = model.NewIntVar(0, int(max(site.bounds)), 'x2')\n",
        "y1 = model.NewIntVar(0, int(max(site.bounds)), 'y1')\n",
        "y2 = model.NewIntVar(0, int(max(site.bounds)), 'y2')\n",
        "\n",
        "model.Add(x2-x1==width)\n",
        "model.Add(y2-y1==depth)\n",
        "\n",
        "model.Add(x1 < int(site.bounds[2]))\n",
        "model.Add(y1 < int(site.bounds[3]))\n",
        "model.Add(x2 < int(site.bounds[2]))\n",
        "model.Add(y2 < int(site.bounds[3]))"
      ]
    },
    {
      "cell_type": "code",
      "execution_count": 91,
      "metadata": {
        "id": "ClVtNmJeQopi"
      },
      "outputs": [],
      "source": [
        "x1_outside = model.NewBoolVar(\"x1_outside\")  # true if x1 > 70 -> in the question zone\n",
        "x2_outside = model.NewBoolVar(\"x2_outside\")  # true if x2 > 70 -> in the question zone"
      ]
    },
    {
      "cell_type": "code",
      "execution_count": 92,
      "metadata": {
        "id": "1Jpy8henQopi",
        "outputId": "dc7b4df8-3ab9-4342-adcc-c863e6138a17",
        "colab": {
          "base_uri": "https://localhost:8080/"
        }
      },
      "outputs": [
        {
          "output_type": "execute_result",
          "data": {
            "text/plain": [
              "<ortools.sat.python.cp_model.Constraint at 0x7d5a1f2c9c30>"
            ]
          },
          "metadata": {},
          "execution_count": 92
        }
      ],
      "source": [
        "model.Add(x1>=70).OnlyEnforceIf(x1_outside)\n",
        "model.Add(x1<70).OnlyEnforceIf(x1_outside.Not())\n",
        "model.Add(x2>=70).OnlyEnforceIf(x2_outside)\n",
        "model.Add(x2<70).OnlyEnforceIf(x2_outside.Not())"
      ]
    },
    {
      "cell_type": "code",
      "execution_count": 93,
      "metadata": {
        "id": "Ezs1UeDrQopi",
        "outputId": "28913d67-7af5-485b-9c95-c7a27657f183",
        "colab": {
          "base_uri": "https://localhost:8080/"
        }
      },
      "outputs": [
        {
          "output_type": "execute_result",
          "data": {
            "text/plain": [
              "<ortools.sat.python.cp_model.Constraint at 0x7d5a1f2ca800>"
            ]
          },
          "metadata": {},
          "execution_count": 93
        }
      ],
      "source": [
        "model.Add(y1>=50).OnlyEnforceIf(x1_outside)  # if x coordinate is in the \"outside zone\" y coordinate can only be from 50 to 150\n",
        "model.Add(y1>=50).OnlyEnforceIf(x2_outside)\n",
        "model.Add(y2>=50).OnlyEnforceIf(x1_outside)\n",
        "model.Add(y2>=50).OnlyEnforceIf(x2_outside)"
      ]
    },
    {
      "cell_type": "code",
      "execution_count": 94,
      "metadata": {
        "id": "BbaQY2DJQopj",
        "outputId": "6c44f84a-2d51-4b9d-93c2-b0ff5fc137be",
        "colab": {
          "base_uri": "https://localhost:8080/"
        }
      },
      "outputs": [
        {
          "output_type": "execute_result",
          "data": {
            "text/plain": [
              "4"
            ]
          },
          "metadata": {},
          "execution_count": 94
        }
      ],
      "source": [
        "model.Minimize(y2)\n",
        "solver = cp_model.CpSolver()\n",
        "status = solver.Solve(model)\n",
        "status"
      ]
    },
    {
      "cell_type": "code",
      "execution_count": 95,
      "metadata": {
        "id": "sh4cTiNBQopj",
        "outputId": "aba8b19e-9b52-4aa5-afeb-d96522807e9e",
        "colab": {
          "base_uri": "https://localhost:8080/",
          "height": 36
        }
      },
      "outputs": [
        {
          "output_type": "execute_result",
          "data": {
            "text/plain": [
              "'OPTIMAL'"
            ],
            "application/vnd.google.colaboratory.intrinsic+json": {
              "type": "string"
            }
          },
          "metadata": {},
          "execution_count": 95
        }
      ],
      "source": [
        "solver.status_name()"
      ]
    },
    {
      "cell_type": "code",
      "execution_count": 96,
      "metadata": {
        "id": "0dkblHqfQopj",
        "outputId": "21c6cc53-7d53-43fb-a7e1-f915b7e76940",
        "colab": {
          "base_uri": "https://localhost:8080/",
          "height": 499
        }
      },
      "outputs": [
        {
          "output_type": "stream",
          "name": "stdout",
          "text": [
            "x1: 69\n",
            "x2: 219\n",
            "y1: 50\n",
            "y2: 100\n"
          ]
        },
        {
          "output_type": "display_data",
          "data": {
            "text/plain": [
              "<Figure size 640x480 with 1 Axes>"
            ],
            "image/png": "[encoded data removed]"
          },
          "metadata": {}
        }
      ],
      "source": [
        "plot_result(solver)"
      ]
    },
    {
      "cell_type": "markdown",
      "metadata": {
        "id": "a-dhkeGDQopj"
      },
      "source": [
        "### 🧩 Task I - multiple houses"
      ]
    },
    {
      "cell_type": "markdown",
      "metadata": {
        "id": "uH--00A5Qopj"
      },
      "source": [
        "We learnt how to place a single house on a given site. Let's say we have multiple houses and our goal is to fit as many as possible on a site.\n",
        "\n",
        "Assume that there are no regulations on distance between the houses.\n",
        "\n",
        "__Hint:__\n",
        "* take a look at [2d bin packing](https://yetanothermathprogrammingconsultant.blogspot.com/2021/02/2d-bin-packing-with-google-or-tools-cp.html), feel free to adjust the code\n",
        "* use [interval var](https://developers.google.com/optimization/reference/python/sat/python/cp_model#newintervalvar)\n",
        "* use [AddNoOverlap2D](https://developers.google.com/optimization/reference/python/sat/python/cp_model#addnooverlap2d)"
      ]
    },
    {
      "cell_type": "code",
      "execution_count": 97,
      "metadata": {
        "id": "W3O03VhUQopj"
      },
      "outputs": [],
      "source": [
        "# site_coords = [(0, 0), (70, 0), (70, 50), (250, 50), (250, 150), (0, 150), (0,0)]\n",
        "site_coords = [(0,0), (200, 0), (200, 400), (0, 400), (0,0)]  # simplified version"
      ]
    },
    {
      "cell_type": "code",
      "execution_count": 98,
      "metadata": {
        "id": "tH6FYwcRQopj"
      },
      "outputs": [],
      "source": [
        "# houses are presented as width and height\n",
        "houses = [\n",
        "    [20, 40],\n",
        "    [25, 40],\n",
        "    [70, 100],\n",
        "    [75, 30],\n",
        "    [30, 30],\n",
        "    [30, 30],\n",
        "    [12, 25],\n",
        "    [12, 20],\n",
        "    [40, 20],\n",
        "    [40, 30],\n",
        "    [70, 30],\n",
        "    [12, 25],\n",
        "    [12, 20],\n",
        "    [40, 20],\n",
        "    [40, 30],\n",
        "    [70, 30],\n",
        "]"
      ]
    },
    {
      "cell_type": "markdown",
      "metadata": {
        "id": "DrguzjDRQopk"
      },
      "source": [
        "To get you started, we initiate the model and add a variable for each house that shows whether it is placed or not:"
      ]
    },
    {
      "cell_type": "code",
      "source": [
        "a = [True, False, True, True, False,]\n",
        "sum(a)"
      ],
      "metadata": {
        "id": "2lSO32LTw5Zv",
        "outputId": "1dbc7062-016e-4e97-93d3-bf9e9a444897",
        "colab": {
          "base_uri": "https://localhost:8080/"
        }
      },
      "execution_count": 99,
      "outputs": [
        {
          "output_type": "execute_result",
          "data": {
            "text/plain": [
              "3"
            ]
          },
          "metadata": {},
          "execution_count": 99
        }
      ]
    },
    {
      "cell_type": "code",
      "execution_count": 100,
      "metadata": {
        "id": "8qKqC3JNQopk",
        "outputId": "b5a9bf0f-c9d6-4811-9fa2-4a21a2d1d70e",
        "colab": {
          "base_uri": "https://localhost:8080/"
        }
      },
      "outputs": [
        {
          "output_type": "execute_result",
          "data": {
            "text/plain": [
              "placed_0(0..1)"
            ]
          },
          "metadata": {},
          "execution_count": 100
        }
      ],
      "source": [
        "model = cp_model.CpModel()\n",
        "placed_vars = []\n",
        "\n",
        "for house in range(len(houses)):\n",
        "    placed_vars.append(model.NewBoolVar(\"placed_{}\".format(house)))\n",
        "\n",
        "# take a look at it:\n",
        "placed_vars[0]"
      ]
    },
    {
      "cell_type": "markdown",
      "metadata": {
        "id": "-5GMO838Qopu"
      },
      "source": [
        "Building variables for one house (let's take number 1):"
      ]
    },
    {
      "cell_type": "markdown",
      "metadata": {
        "id": "3S77MIfbQopu"
      },
      "source": [
        "![Variables explanation](https://github.com/STASYA00/IAAC2024_tutorials/blob/main/.assets/optimization/1.jpg?raw=1)"
      ]
    },
    {
      "cell_type": "code",
      "source": [
        "a = []"
      ],
      "metadata": {
        "id": "gIkr-0WDl-M_"
      },
      "execution_count": 101,
      "outputs": []
    },
    {
      "cell_type": "code",
      "source": [
        "a"
      ],
      "metadata": {
        "id": "TUElm5Qpl_t-",
        "outputId": "a4a80c81-7f3e-4b03-e8c2-eb5d3d06c2ca",
        "colab": {
          "base_uri": "https://localhost:8080/"
        }
      },
      "execution_count": 102,
      "outputs": [
        {
          "output_type": "execute_result",
          "data": {
            "text/plain": [
              "[]"
            ]
          },
          "metadata": {},
          "execution_count": 102
        }
      ]
    },
    {
      "cell_type": "code",
      "source": [
        "a.append(12)"
      ],
      "metadata": {
        "id": "ZudJ5vDqmAyx"
      },
      "execution_count": 103,
      "outputs": []
    },
    {
      "cell_type": "code",
      "execution_count": 104,
      "metadata": {
        "id": "08eRpoDBQopu"
      },
      "outputs": [],
      "source": [
        "MAX_SITE_WIDTH = max([s[0] for s in site_coords])\n",
        "MAX_SITE_HEIGHT = max([s[1] for s in site_coords])\n",
        "\n",
        "x1 = []\n",
        "x2 = []\n",
        "y1 = []\n",
        "y2 = []\n",
        "\n",
        "for house_number in range(len(houses)):\n",
        "\n",
        "  x1.append(model.NewIntVar(0,  MAX_SITE_WIDTH, 'x1_{}'.format(house_number)))\n",
        "  x2.append(model.NewIntVar(0,  MAX_SITE_WIDTH, 'x2_{}'.format(house_number)))\n",
        "  y1.append(model.NewIntVar(0,  MAX_SITE_HEIGHT, 'y1_{}'.format(house_number)))\n",
        "  y2.append(model.NewIntVar(0,  MAX_SITE_HEIGHT, 'y2_{}'.format(house_number)))\n"
      ]
    },
    {
      "cell_type": "code",
      "execution_count": 105,
      "metadata": {
        "id": "AP-CMRhcQopv"
      },
      "outputs": [],
      "source": [
        "# interval variables\n",
        "# Arguments: start, size, end, whether it is placed, variable name\n",
        "# https://developers.google.com/optimization/reference/python/sat/python/cp_model#newoptionalintervalvar\n",
        "\n",
        "house_number = 1\n",
        "width_interval = model.NewOptionalIntervalVar(x1[house_number], houses[house_number][0], x2[house_number],\n",
        "                                              placed_vars[house_number],\n",
        "                                              'width_interval_{}'.format(house_number))\n",
        "\n",
        "depth_interval = model.NewOptionalIntervalVar(y1[house_number], houses[house_number][1], y2[house_number],\n",
        "                                              placed_vars[house_number],\n",
        "                                              'depth_interval_{}'.format(house_number))"
      ]
    },
    {
      "cell_type": "markdown",
      "metadata": {
        "id": "4CIgFmQnQopv"
      },
      "source": [
        "Complete the model with all the houses."
      ]
    },
    {
      "cell_type": "code",
      "execution_count": 106,
      "metadata": {
        "id": "0AA7bOkyQopv",
        "colab": {
          "base_uri": "https://localhost:8080/"
        },
        "outputId": "2eda1e17-6e08-40b4-f9cc-44b245ca94aa"
      },
      "outputs": [
        {
          "output_type": "execute_result",
          "data": {
            "text/plain": [
              "[depth_interval_0(start = y1_0, size = 40, end = y2_0, is_present = placed_0),\n",
              " depth_interval_1(start = y1_1, size = 40, end = y2_1, is_present = placed_1),\n",
              " depth_interval_2(start = y1_2, size = 100, end = y2_2, is_present = placed_2),\n",
              " depth_interval_3(start = y1_3, size = 30, end = y2_3, is_present = placed_3),\n",
              " depth_interval_4(start = y1_4, size = 30, end = y2_4, is_present = placed_4),\n",
              " depth_interval_5(start = y1_5, size = 30, end = y2_5, is_present = placed_5),\n",
              " depth_interval_6(start = y1_6, size = 25, end = y2_6, is_present = placed_6),\n",
              " depth_interval_7(start = y1_7, size = 20, end = y2_7, is_present = placed_7),\n",
              " depth_interval_8(start = y1_8, size = 20, end = y2_8, is_present = placed_8),\n",
              " depth_interval_9(start = y1_9, size = 30, end = y2_9, is_present = placed_9),\n",
              " depth_interval_10(start = y1_10, size = 30, end = y2_10, is_present = placed_10),\n",
              " depth_interval_11(start = y1_11, size = 25, end = y2_11, is_present = placed_11),\n",
              " depth_interval_12(start = y1_12, size = 20, end = y2_12, is_present = placed_12),\n",
              " depth_interval_13(start = y1_13, size = 20, end = y2_13, is_present = placed_13),\n",
              " depth_interval_14(start = y1_14, size = 30, end = y2_14, is_present = placed_14),\n",
              " depth_interval_15(start = y1_15, size = 30, end = y2_15, is_present = placed_15)]"
            ]
          },
          "metadata": {},
          "execution_count": 106
        }
      ],
      "source": [
        "# your code here\n",
        "house_width_intervals = []\n",
        "house_depth_intervals = []\n",
        "\n",
        "for house_number in range(len(houses)):\n",
        "  house_width_intervals.append(model.NewOptionalIntervalVar(x1[house_number], houses[house_number][0], x2[house_number], placed_vars[house_number], 'width_interval_{}'.format(house_number)))\n",
        "  house_depth_intervals.append(model.NewOptionalIntervalVar(y1[house_number], houses[house_number][1], y2[house_number], placed_vars[house_number], 'depth_interval_{}'.format(house_number)))\n",
        "\n",
        "house_width_intervals\n",
        "house_depth_intervals\n"
      ]
    },
    {
      "cell_type": "markdown",
      "metadata": {
        "id": "8ZABiWsFQopv"
      },
      "source": [
        "![Overlap](https://github.com/STASYA00/IAAC2024_tutorials/blob/main/.assets/optimization/2.jpg?raw=1)"
      ]
    },
    {
      "cell_type": "code",
      "execution_count": 117,
      "metadata": {
        "id": "wWtiZzB0Qopv",
        "outputId": "ad664980-b1e5-43de-983a-1e16410d32bd",
        "colab": {
          "base_uri": "https://localhost:8080/"
        }
      },
      "outputs": [
        {
          "output_type": "execute_result",
          "data": {
            "text/plain": [
              "<ortools.sat.python.cp_model.Constraint at 0x7d5a1f2e0040>"
            ]
          },
          "metadata": {},
          "execution_count": 117
        }
      ],
      "source": [
        "model.AddNoOverlap2D(house_width_intervals, house_depth_intervals)"
      ]
    },
    {
      "cell_type": "markdown",
      "metadata": {
        "id": "HEZQ6xHTQopv"
      },
      "source": [
        "Run the solver and visualize the solution"
      ]
    },
    {
      "cell_type": "code",
      "execution_count": 108,
      "metadata": {
        "id": "OAQctOlyQopv",
        "colab": {
          "base_uri": "https://localhost:8080/"
        },
        "outputId": "5da1ad11-fedf-46f0-daf5-d95d78ba3020"
      },
      "outputs": [
        {
          "output_type": "execute_result",
          "data": {
            "text/plain": [
              "4"
            ]
          },
          "metadata": {},
          "execution_count": 108
        }
      ],
      "source": [
        "# your code here\n",
        "\n",
        "# objective\n",
        "model.Maximize(sum(placed_vars))\n",
        "\n",
        "# solve model\n",
        "solver = cp_model.CpSolver()\n",
        "status = solver.Solve(model)\n",
        "status\n",
        "\n"
      ]
    },
    {
      "cell_type": "code",
      "source": [
        "solver.status_name()"
      ],
      "metadata": {
        "id": "ZaF9-gsTzqIc",
        "outputId": "b337ae92-08fb-48fa-aeac-4cec890ac568",
        "colab": {
          "base_uri": "https://localhost:8080/",
          "height": 36
        }
      },
      "execution_count": 111,
      "outputs": [
        {
          "output_type": "execute_result",
          "data": {
            "text/plain": [
              "'OPTIMAL'"
            ],
            "application/vnd.google.colaboratory.intrinsic+json": {
              "type": "string"
            }
          },
          "metadata": {},
          "execution_count": 111
        }
      ]
    },
    {
      "cell_type": "code",
      "source": [
        "import matplotlib.pyplot as plt\n",
        "\n",
        "# Extracting the solution\n",
        "solution = [(solver.Value(x1[i]), solver.Value(y1[i]), solver.Value(x2[i]), solver.Value(y2[i])) for i in range(len(houses))]\n",
        "\n",
        "# Plotting the site outline\n",
        "plt.plot([coord[0] for coord in site_coords], [coord[1] for coord in site_coords], 'k-')\n",
        "\n",
        "# Plotting the houses\n",
        "for house_coords in solution:\n",
        "    x1, y1, x2, y2 = house_coords\n",
        "    plt.plot([x1, x2, x2, x1, x1], [y1, y1, y2, y2, y1], 'b-')\n",
        "\n",
        "plt.xlabel('Width')\n",
        "plt.ylabel('Height')\n",
        "plt.title('House Placement')\n",
        "plt.grid(True)\n",
        "plt.show()\n"
      ],
      "metadata": {
        "id": "igLp5EuQyeqV",
        "outputId": "251492fc-7f58-41d5-ea36-512a2c650219",
        "colab": {
          "base_uri": "https://localhost:8080/",
          "height": 472
        }
      },
      "execution_count": 113,
      "outputs": [
        {
          "output_type": "display_data",
          "data": {
            "text/plain": [
              "<Figure size 640x480 with 1 Axes>"
            ],
            "image/png": "[encoded data removed]"
          },
          "metadata": {}
        }
      ]
    },
    {
      "cell_type": "code",
      "source": [],
      "metadata": {
        "id": "9ZmPU7Fuygwy"
      },
      "execution_count": null,
      "outputs": []
    },
    {
      "cell_type": "markdown",
      "metadata": {
        "id": "ch9fvtcMQopv"
      },
      "source": [
        "### 🧩 Task II - adding the roads"
      ]
    },
    {
      "cell_type": "markdown",
      "metadata": {
        "id": "Zcl6D3z3Qopw"
      },
      "source": [
        "Our houses are placed in a dense grid. Add roads, bike lanes and walkways as constraints to our model"
      ]
    },
    {
      "cell_type": "code",
      "execution_count": null,
      "metadata": {
        "id": "XDMTkNVaQopw"
      },
      "outputs": [],
      "source": [
        "# your code here"
      ]
    }
  ],
  "metadata": {
    "kernelspec": {
      "display_name": "iaac2024",
      "language": "python",
      "name": "python3"
    },
    "language_info": {
      "codemirror_mode": {
        "name": "ipython",
        "version": 3
      },
      "file_extension": ".py",
      "mimetype": "text/x-python",
      "name": "python",
      "nbconvert_exporter": "python",
      "pygments_lexer": "ipython3",
      "version": "3.10.6"
    },
    "colab": {
      "provenance": [],
      "include_colab_link": true
    }
  },
  "nbformat": 4,
  "nbformat_minor": 0
}