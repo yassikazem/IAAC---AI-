{
  "cells": [
    {
      "cell_type": "markdown",
      "metadata": {
        "id": "view-in-github",
        "colab_type": "text"
      },
      "source": [
        "<a href=\"https://colab.research.google.com/github/yassikazem/IAAC---AI-/blob/main/quickstarts/03_optimization.ipynb\" target=\"_parent\"><img src=\"https://colab.research.google.com/assets/colab-badge.svg\" alt=\"Open In Colab\"/></a>"
      ]
    },
    {
      "cell_type": "markdown",
      "metadata": {
        "id": "pmUIvYU0QopX"
      },
      "source": [
        "<a href=\"https://colab.research.google.com/github/STASYA00/IAAC2024_tutorials/blob/main/quickstarts/03_optimization.ipynb\" target=\"_parent\"><img src=\"https://colab.research.google.com/assets/colab-badge.svg\" alt=\"Open In Colab\"/></a> - Stasja's notebook"
      ]
    },
    {
      "cell_type": "code",
      "execution_count": 1,
      "metadata": {
        "id": "RB2h2NMbQopa",
        "outputId": "1c12e02f-2e2d-42fc-914e-af5ef3828cb2",
        "colab": {
          "base_uri": "https://localhost:8080/"
        }
      },
      "outputs": [
        {
          "output_type": "stream",
          "name": "stdout",
          "text": [
            "Collecting osmnx\n",
            "  Downloading osmnx-1.9.2-py3-none-any.whl (107 kB)\n",
            "\u001b[?25l     \u001b[90m━━━━━━━━━━━━━━━━━━━━━━━━━━━━━━━━━━━━━━━━\u001b[0m \u001b[32m0.0/107.4 kB\u001b[0m \u001b[31m?\u001b[0m eta \u001b[36m-:--:--\u001b[0m\r\u001b[2K     \u001b[90m━━━━━━━━━━━━━━━━━━━━━━━━━━━━━━━━━━━━━━━━\u001b[0m \u001b[32m107.4/107.4 kB\u001b[0m \u001b[31m3.7 MB/s\u001b[0m eta \u001b[36m0:00:00\u001b[0m\n",
            "\u001b[?25hRequirement already satisfied: geopy in /usr/local/lib/python3.10/dist-packages (2.3.0)\n",
            "Requirement already satisfied: scikit-learn in /usr/local/lib/python3.10/dist-packages (1.2.2)\n",
            "Collecting ortools\n",
            "  Downloading ortools-9.9.3963-cp310-cp310-manylinux_2_17_x86_64.manylinux2014_x86_64.whl (24.8 MB)\n",
            "\u001b[2K     \u001b[90m━━━━━━━━━━━━━━━━━━━━━━━━━━━━━━━━━━━━━━━━\u001b[0m \u001b[32m24.8/24.8 MB\u001b[0m \u001b[31m36.6 MB/s\u001b[0m eta \u001b[36m0:00:00\u001b[0m\n",
            "\u001b[?25hRequirement already satisfied: ipykernel in /usr/local/lib/python3.10/dist-packages (5.5.6)\n",
            "Requirement already satisfied: plotly in /usr/local/lib/python3.10/dist-packages (5.15.0)\n",
            "Requirement already satisfied: nbformat in /usr/local/lib/python3.10/dist-packages (5.10.4)\n",
            "Requirement already satisfied: geopandas>=0.12 in /usr/local/lib/python3.10/dist-packages (from osmnx) (0.13.2)\n",
            "Requirement already satisfied: networkx>=2.5 in /usr/local/lib/python3.10/dist-packages (from osmnx) (3.3)\n",
            "Requirement already satisfied: numpy>=1.20 in /usr/local/lib/python3.10/dist-packages (from osmnx) (1.25.2)\n",
            "Requirement already satisfied: pandas>=1.1 in /usr/local/lib/python3.10/dist-packages (from osmnx) (2.0.3)\n",
            "Requirement already satisfied: requests>=2.27 in /usr/local/lib/python3.10/dist-packages (from osmnx) (2.31.0)\n",
            "Requirement already satisfied: shapely>=2.0 in /usr/local/lib/python3.10/dist-packages (from osmnx) (2.0.4)\n",
            "Requirement already satisfied: geographiclib<3,>=1.52 in /usr/local/lib/python3.10/dist-packages (from geopy) (2.0)\n",
            "Requirement already satisfied: scipy>=1.3.2 in /usr/local/lib/python3.10/dist-packages (from scikit-learn) (1.11.4)\n",
            "Requirement already satisfied: joblib>=1.1.1 in /usr/local/lib/python3.10/dist-packages (from scikit-learn) (1.4.0)\n",
            "Requirement already satisfied: threadpoolctl>=2.0.0 in /usr/local/lib/python3.10/dist-packages (from scikit-learn) (3.4.0)\n",
            "Collecting absl-py>=2.0.0 (from ortools)\n",
            "  Downloading absl_py-2.1.0-py3-none-any.whl (133 kB)\n",
            "\u001b[2K     \u001b[90m━━━━━━━━━━━━━━━━━━━━━━━━━━━━━━━━━━━━━━━━\u001b[0m \u001b[32m133.7/133.7 kB\u001b[0m \u001b[31m10.5 MB/s\u001b[0m eta \u001b[36m0:00:00\u001b[0m\n",
            "\u001b[?25hCollecting protobuf>=4.25.3 (from ortools)\n",
            "  Downloading protobuf-5.26.1-cp37-abi3-manylinux2014_x86_64.whl (302 kB)\n",
            "\u001b[2K     \u001b[90m━━━━━━━━━━━━━━━━━━━━━━━━━━━━━━━━━━━━━━━━\u001b[0m \u001b[32m302.8/302.8 kB\u001b[0m \u001b[31m23.3 MB/s\u001b[0m eta \u001b[36m0:00:00\u001b[0m\n",
            "\u001b[?25hCollecting immutabledict>=3.0.0 (from ortools)\n",
            "  Downloading immutabledict-4.2.0-py3-none-any.whl (4.7 kB)\n",
            "Requirement already satisfied: ipython-genutils in /usr/local/lib/python3.10/dist-packages (from ipykernel) (0.2.0)\n",
            "Requirement already satisfied: ipython>=5.0.0 in /usr/local/lib/python3.10/dist-packages (from ipykernel) (7.34.0)\n",
            "Requirement already satisfied: traitlets>=4.1.0 in /usr/local/lib/python3.10/dist-packages (from ipykernel) (5.7.1)\n",
            "Requirement already satisfied: jupyter-client in /usr/local/lib/python3.10/dist-packages (from ipykernel) (6.1.12)\n",
            "Requirement already satisfied: tornado>=4.2 in /usr/local/lib/python3.10/dist-packages (from ipykernel) (6.3.3)\n",
            "Requirement already satisfied: tenacity>=6.2.0 in /usr/local/lib/python3.10/dist-packages (from plotly) (8.2.3)\n",
            "Requirement already satisfied: packaging in /usr/local/lib/python3.10/dist-packages (from plotly) (24.0)\n",
            "Requirement already satisfied: fastjsonschema>=2.15 in /usr/local/lib/python3.10/dist-packages (from nbformat) (2.19.1)\n",
            "Requirement already satisfied: jsonschema>=2.6 in /usr/local/lib/python3.10/dist-packages (from nbformat) (4.19.2)\n",
            "Requirement already satisfied: jupyter-core!=5.0.*,>=4.12 in /usr/local/lib/python3.10/dist-packages (from nbformat) (5.7.2)\n",
            "Requirement already satisfied: fiona>=1.8.19 in /usr/local/lib/python3.10/dist-packages (from geopandas>=0.12->osmnx) (1.9.6)\n",
            "Requirement already satisfied: pyproj>=3.0.1 in /usr/local/lib/python3.10/dist-packages (from geopandas>=0.12->osmnx) (3.6.1)\n",
            "Requirement already satisfied: setuptools>=18.5 in /usr/local/lib/python3.10/dist-packages (from ipython>=5.0.0->ipykernel) (67.7.2)\n",
            "Collecting jedi>=0.16 (from ipython>=5.0.0->ipykernel)\n",
            "  Downloading jedi-0.19.1-py2.py3-none-any.whl (1.6 MB)\n",
            "\u001b[2K     \u001b[90m━━━━━━━━━━━━━━━━━━━━━━━━━━━━━━━━━━━━━━━━\u001b[0m \u001b[32m1.6/1.6 MB\u001b[0m \u001b[31m36.6 MB/s\u001b[0m eta \u001b[36m0:00:00\u001b[0m\n",
            "\u001b[?25hRequirement already satisfied: decorator in /usr/local/lib/python3.10/dist-packages (from ipython>=5.0.0->ipykernel) (4.4.2)\n",
            "Requirement already satisfied: pickleshare in /usr/local/lib/python3.10/dist-packages (from ipython>=5.0.0->ipykernel) (0.7.5)\n",
            "Requirement already satisfied: prompt-toolkit!=3.0.0,!=3.0.1,<3.1.0,>=2.0.0 in /usr/local/lib/python3.10/dist-packages (from ipython>=5.0.0->ipykernel) (3.0.43)\n",
            "Requirement already satisfied: pygments in /usr/local/lib/python3.10/dist-packages (from ipython>=5.0.0->ipykernel) (2.16.1)\n",
            "Requirement already satisfied: backcall in /usr/local/lib/python3.10/dist-packages (from ipython>=5.0.0->ipykernel) (0.2.0)\n",
            "Requirement already satisfied: matplotlib-inline in /usr/local/lib/python3.10/dist-packages (from ipython>=5.0.0->ipykernel) (0.1.7)\n",
            "Requirement already satisfied: pexpect>4.3 in /usr/local/lib/python3.10/dist-packages (from ipython>=5.0.0->ipykernel) (4.9.0)\n",
            "Requirement already satisfied: attrs>=22.2.0 in /usr/local/lib/python3.10/dist-packages (from jsonschema>=2.6->nbformat) (23.2.0)\n",
            "Requirement already satisfied: jsonschema-specifications>=2023.03.6 in /usr/local/lib/python3.10/dist-packages (from jsonschema>=2.6->nbformat) (2023.12.1)\n",
            "Requirement already satisfied: referencing>=0.28.4 in /usr/local/lib/python3.10/dist-packages (from jsonschema>=2.6->nbformat) (0.34.0)\n",
            "Requirement already satisfied: rpds-py>=0.7.1 in /usr/local/lib/python3.10/dist-packages (from jsonschema>=2.6->nbformat) (0.18.0)\n",
            "Requirement already satisfied: platformdirs>=2.5 in /usr/local/lib/python3.10/dist-packages (from jupyter-core!=5.0.*,>=4.12->nbformat) (4.2.0)\n",
            "Requirement already satisfied: python-dateutil>=2.8.2 in /usr/local/lib/python3.10/dist-packages (from pandas>=1.1->osmnx) (2.8.2)\n",
            "Requirement already satisfied: pytz>=2020.1 in /usr/local/lib/python3.10/dist-packages (from pandas>=1.1->osmnx) (2023.4)\n",
            "Requirement already satisfied: tzdata>=2022.1 in /usr/local/lib/python3.10/dist-packages (from pandas>=1.1->osmnx) (2024.1)\n",
            "Requirement already satisfied: charset-normalizer<4,>=2 in /usr/local/lib/python3.10/dist-packages (from requests>=2.27->osmnx) (3.3.2)\n",
            "Requirement already satisfied: idna<4,>=2.5 in /usr/local/lib/python3.10/dist-packages (from requests>=2.27->osmnx) (3.7)\n",
            "Requirement already satisfied: urllib3<3,>=1.21.1 in /usr/local/lib/python3.10/dist-packages (from requests>=2.27->osmnx) (2.0.7)\n",
            "Requirement already satisfied: certifi>=2017.4.17 in /usr/local/lib/python3.10/dist-packages (from requests>=2.27->osmnx) (2024.2.2)\n",
            "Requirement already satisfied: pyzmq>=13 in /usr/local/lib/python3.10/dist-packages (from jupyter-client->ipykernel) (23.2.1)\n",
            "Requirement already satisfied: click~=8.0 in /usr/local/lib/python3.10/dist-packages (from fiona>=1.8.19->geopandas>=0.12->osmnx) (8.1.7)\n",
            "Requirement already satisfied: click-plugins>=1.0 in /usr/local/lib/python3.10/dist-packages (from fiona>=1.8.19->geopandas>=0.12->osmnx) (1.1.1)\n",
            "Requirement already satisfied: cligj>=0.5 in /usr/local/lib/python3.10/dist-packages (from fiona>=1.8.19->geopandas>=0.12->osmnx) (0.7.2)\n",
            "Requirement already satisfied: six in /usr/local/lib/python3.10/dist-packages (from fiona>=1.8.19->geopandas>=0.12->osmnx) (1.16.0)\n",
            "Requirement already satisfied: parso<0.9.0,>=0.8.3 in /usr/local/lib/python3.10/dist-packages (from jedi>=0.16->ipython>=5.0.0->ipykernel) (0.8.4)\n",
            "Requirement already satisfied: ptyprocess>=0.5 in /usr/local/lib/python3.10/dist-packages (from pexpect>4.3->ipython>=5.0.0->ipykernel) (0.7.0)\n",
            "Requirement already satisfied: wcwidth in /usr/local/lib/python3.10/dist-packages (from prompt-toolkit!=3.0.0,!=3.0.1,<3.1.0,>=2.0.0->ipython>=5.0.0->ipykernel) (0.2.13)\n",
            "Installing collected packages: protobuf, jedi, immutabledict, absl-py, ortools, osmnx\n",
            "  Attempting uninstall: protobuf\n",
            "    Found existing installation: protobuf 3.20.3\n",
            "    Uninstalling protobuf-3.20.3:\n",
            "      Successfully uninstalled protobuf-3.20.3\n",
            "  Attempting uninstall: absl-py\n",
            "    Found existing installation: absl-py 1.4.0\n",
            "    Uninstalling absl-py-1.4.0:\n",
            "      Successfully uninstalled absl-py-1.4.0\n",
            "\u001b[31mERROR: pip's dependency resolver does not currently take into account all the packages that are installed. This behaviour is the source of the following dependency conflicts.\n",
            "google-ai-generativelanguage 0.6.2 requires protobuf!=3.20.0,!=3.20.1,!=4.21.0,!=4.21.1,!=4.21.2,!=4.21.3,!=4.21.4,!=4.21.5,<5.0.0dev,>=3.19.5, but you have protobuf 5.26.1 which is incompatible.\n",
            "google-api-core 2.11.1 requires protobuf!=3.20.0,!=3.20.1,!=4.21.0,!=4.21.1,!=4.21.2,!=4.21.3,!=4.21.4,!=4.21.5,<5.0.0.dev0,>=3.19.5, but you have protobuf 5.26.1 which is incompatible.\n",
            "google-cloud-aiplatform 1.48.0 requires protobuf!=3.20.0,!=3.20.1,!=4.21.0,!=4.21.1,!=4.21.2,!=4.21.3,!=4.21.4,!=4.21.5,<5.0.0dev,>=3.19.5, but you have protobuf 5.26.1 which is incompatible.\n",
            "google-cloud-bigquery 3.12.0 requires protobuf!=3.20.0,!=3.20.1,!=4.21.0,!=4.21.1,!=4.21.2,!=4.21.3,!=4.21.4,!=4.21.5,<5.0.0dev,>=3.19.5, but you have protobuf 5.26.1 which is incompatible.\n",
            "google-cloud-bigquery-connection 1.12.1 requires protobuf!=3.20.0,!=3.20.1,!=4.21.0,!=4.21.1,!=4.21.2,!=4.21.3,!=4.21.4,!=4.21.5,<5.0.0dev,>=3.19.5, but you have protobuf 5.26.1 which is incompatible.\n",
            "google-cloud-bigquery-storage 2.24.0 requires protobuf!=3.20.0,!=3.20.1,!=4.21.0,!=4.21.1,!=4.21.2,!=4.21.3,!=4.21.4,!=4.21.5,<5.0.0dev,>=3.19.5, but you have protobuf 5.26.1 which is incompatible.\n",
            "google-cloud-datastore 2.15.2 requires protobuf!=3.20.0,!=3.20.1,!=4.21.0,!=4.21.1,!=4.21.2,!=4.21.3,!=4.21.4,!=4.21.5,<5.0.0dev,>=3.19.5, but you have protobuf 5.26.1 which is incompatible.\n",
            "google-cloud-firestore 2.11.1 requires protobuf!=3.20.0,!=3.20.1,!=4.21.0,!=4.21.1,!=4.21.2,!=4.21.3,!=4.21.4,!=4.21.5,<5.0.0dev,>=3.19.5, but you have protobuf 5.26.1 which is incompatible.\n",
            "google-cloud-functions 1.13.3 requires protobuf!=3.20.0,!=3.20.1,!=4.21.0,!=4.21.1,!=4.21.2,!=4.21.3,!=4.21.4,!=4.21.5,<5.0.0dev,>=3.19.5, but you have protobuf 5.26.1 which is incompatible.\n",
            "google-cloud-iam 2.15.0 requires protobuf!=3.20.0,!=3.20.1,!=4.21.0,!=4.21.1,!=4.21.2,!=4.21.3,!=4.21.4,!=4.21.5,<5.0.0dev,>=3.19.5, but you have protobuf 5.26.1 which is incompatible.\n",
            "google-cloud-language 2.13.3 requires protobuf!=3.20.0,!=3.20.1,!=4.21.0,!=4.21.1,!=4.21.2,!=4.21.3,!=4.21.4,!=4.21.5,<5.0.0dev,>=3.19.5, but you have protobuf 5.26.1 which is incompatible.\n",
            "google-cloud-resource-manager 1.12.3 requires protobuf!=3.20.0,!=3.20.1,!=4.21.0,!=4.21.1,!=4.21.2,!=4.21.3,!=4.21.4,!=4.21.5,<5.0.0dev,>=3.19.5, but you have protobuf 5.26.1 which is incompatible.\n",
            "google-cloud-translate 3.11.3 requires protobuf!=3.20.0,!=3.20.1,!=4.21.0,!=4.21.1,!=4.21.2,!=4.21.3,!=4.21.4,!=4.21.5,<5.0.0dev,>=3.19.5, but you have protobuf 5.26.1 which is incompatible.\n",
            "googleapis-common-protos 1.63.0 requires protobuf!=3.20.0,!=3.20.1,!=4.21.1,!=4.21.2,!=4.21.3,!=4.21.4,!=4.21.5,<5.0.0.dev0,>=3.19.5, but you have protobuf 5.26.1 which is incompatible.\n",
            "grpc-google-iam-v1 0.13.0 requires protobuf!=3.20.0,!=3.20.1,!=4.21.1,!=4.21.2,!=4.21.3,!=4.21.4,!=4.21.5,<5.0.0dev,>=3.19.5, but you have protobuf 5.26.1 which is incompatible.\n",
            "proto-plus 1.23.0 requires protobuf<5.0.0dev,>=3.19.0, but you have protobuf 5.26.1 which is incompatible.\n",
            "tensorflow 2.15.0 requires protobuf!=4.21.0,!=4.21.1,!=4.21.2,!=4.21.3,!=4.21.4,!=4.21.5,<5.0.0dev,>=3.20.3, but you have protobuf 5.26.1 which is incompatible.\n",
            "tensorflow-metadata 1.14.0 requires absl-py<2.0.0,>=0.9, but you have absl-py 2.1.0 which is incompatible.\n",
            "tensorflow-metadata 1.14.0 requires protobuf<4.21,>=3.20.3, but you have protobuf 5.26.1 which is incompatible.\u001b[0m\u001b[31m\n",
            "\u001b[0mSuccessfully installed absl-py-2.1.0 immutabledict-4.2.0 jedi-0.19.1 ortools-9.9.3963 osmnx-1.9.2 protobuf-5.26.1\n"
          ]
        }
      ],
      "source": [
        "!pip install osmnx geopy scikit-learn ortools ipykernel plotly nbformat"
      ]
    },
    {
      "cell_type": "code",
      "execution_count": 2,
      "metadata": {
        "id": "LOK17eGJQopc"
      },
      "outputs": [],
      "source": [
        "# !pip install --upgrade nbformat"
      ]
    },
    {
      "cell_type": "markdown",
      "metadata": {
        "id": "Csayx9foQopc"
      },
      "source": [
        "* [Ortools package](https://developers.google.com/optimization)\n",
        "* [What is optimization](https://en.wikipedia.org/wiki/Mathematical_optimization)\n",
        "* [Video on what optimization is](https://youtu.be/AM6BY4btj-M?t=170&si=FUAW-bzml27y61zq) - only 2.50 - 6.00"
      ]
    },
    {
      "cell_type": "markdown",
      "metadata": {
        "id": "Iu-elrsJQopd"
      },
      "source": [
        "## 🕍Optimizing house placement"
      ]
    },
    {
      "cell_type": "code",
      "execution_count": 3,
      "metadata": {
        "id": "HkQQwWvnQopd"
      },
      "outputs": [],
      "source": [
        "from shapely.geometry import Polygon\n",
        "import matplotlib.pyplot as plt\n",
        "import seaborn as sns\n",
        "sns.set_style()"
      ]
    },
    {
      "cell_type": "code",
      "execution_count": 4,
      "metadata": {
        "id": "mLhoYJv6Qopd",
        "outputId": "807e5ed9-bb00-4bca-bf07-133d0093d907",
        "colab": {
          "base_uri": "https://localhost:8080/",
          "height": 122
        }
      },
      "outputs": [
        {
          "output_type": "execute_result",
          "data": {
            "text/plain": [
              "<POLYGON ((0 0, 150 0, 150 50, 0 50, 0 0))>"
            ],
            "image/svg+xml": "<svg xmlns=\"http://www.w3.org/2000/svg\" xmlns:xlink=\"http://www.w3.org/1999/xlink\" width=\"162.0\" height=\"100.0\" viewBox=\"-6.0 -6.0 162.0 62.0\" preserveAspectRatio=\"xMinYMin meet\"><g transform=\"matrix(1,0,0,-1,0,50.0)\"><path fill-rule=\"evenodd\" fill=\"#66cc99\" stroke=\"#555555\" stroke-width=\"2.0\" opacity=\"0.6\" d=\"M 0.0,0.0 L 150.0,0.0 L 150.0,50.0 L 0.0,50.0 L 0.0,0.0 z\" /></g></svg>"
          },
          "metadata": {},
          "execution_count": 4
        }
      ],
      "source": [
        "width = 150\n",
        "depth = 50\n",
        "x1 = 0\n",
        "y1 = 0\n",
        "coords = [(x1, y1), (x1 + width, y1), (x1+width, y1+depth), (x1, y1+depth), (x1, y1)]\n",
        "house = Polygon(coords)\n",
        "house"
      ]
    },
    {
      "cell_type": "markdown",
      "metadata": {
        "id": "PQaVVKy4Qope"
      },
      "source": [
        "Site geometry"
      ]
    },
    {
      "cell_type": "code",
      "execution_count": 5,
      "metadata": {
        "id": "nlUSxnIPQopf",
        "outputId": "1415ce05-960b-40cf-ac1b-387c6ade5a45",
        "colab": {
          "base_uri": "https://localhost:8080/",
          "height": 192
        }
      },
      "outputs": [
        {
          "output_type": "execute_result",
          "data": {
            "text/plain": [
              "<POLYGON ((0 0, 70 0, 70 50, 250 50, 250 150, 0 150, 0 0))>"
            ],
            "image/svg+xml": "<svg xmlns=\"http://www.w3.org/2000/svg\" xmlns:xlink=\"http://www.w3.org/1999/xlink\" width=\"270.0\" height=\"170.0\" viewBox=\"-10.0 -10.0 270.0 170.0\" preserveAspectRatio=\"xMinYMin meet\"><g transform=\"matrix(1,0,0,-1,0,150.0)\"><path fill-rule=\"evenodd\" fill=\"#66cc99\" stroke=\"#555555\" stroke-width=\"2.0\" opacity=\"0.6\" d=\"M 0.0,0.0 L 70.0,0.0 L 70.0,50.0 L 250.0,50.0 L 250.0,150.0 L 0.0,150.0 L 0.0,0.0 z\" /></g></svg>"
          },
          "metadata": {},
          "execution_count": 5
        }
      ],
      "source": [
        "coords = [(0, 0), (70, 0), (70, 50), (250, 50), (250, 150), (0, 150), (0,0)]\n",
        "site = Polygon(coords)\n",
        "site"
      ]
    },
    {
      "cell_type": "markdown",
      "metadata": {
        "id": "c2Gi-MVCQopf"
      },
      "source": [
        "### Optimizing house position"
      ]
    },
    {
      "cell_type": "markdown",
      "metadata": {
        "id": "6FB5tu38Qopf"
      },
      "source": [
        "We will be using [CP-SAT](https://developers.google.com/optimization/cp/cp_solver) solver made available to general public by Google."
      ]
    },
    {
      "cell_type": "code",
      "execution_count": 6,
      "metadata": {
        "id": "ghFq1KwbQopf"
      },
      "outputs": [],
      "source": [
        "from ortools.sat.python import cp_model\n",
        "model = cp_model.CpModel()"
      ]
    },
    {
      "cell_type": "markdown",
      "metadata": {
        "id": "nodea5umQopg"
      },
      "source": [
        "Let's place our house onto the site. The constraints would be that:\n",
        "* all house coordinates are within the site polygon"
      ]
    },
    {
      "cell_type": "code",
      "execution_count": 7,
      "metadata": {
        "id": "m5lna56OQopg",
        "outputId": "b352e900-12c1-44d7-ca4a-6731191c127b",
        "colab": {
          "base_uri": "https://localhost:8080/"
        }
      },
      "outputs": [
        {
          "output_type": "execute_result",
          "data": {
            "text/plain": [
              "(0.0, 0.0, 250.0, 150.0)"
            ]
          },
          "metadata": {},
          "execution_count": 7
        }
      ],
      "source": [
        "site.bounds"
      ]
    },
    {
      "cell_type": "code",
      "execution_count": 8,
      "metadata": {
        "id": "uF9zHr22Qopg",
        "outputId": "121a4c25-6793-4c57-a668-416474fd875f",
        "colab": {
          "base_uri": "https://localhost:8080/"
        }
      },
      "outputs": [
        {
          "output_type": "execute_result",
          "data": {
            "text/plain": [
              "x1(0..250)"
            ]
          },
          "metadata": {},
          "execution_count": 8
        }
      ],
      "source": [
        "# Int var says that we create an integer variable that can have any value in a certain range.\n",
        "# This range is given when we define the variable: here it is 0 and the maximum coordinate of our site (250):\n",
        "x1 = model.NewIntVar(0, int(max(site.bounds)), 'x1')  # last argument is the name of the variable in the model\n",
        "x1"
      ]
    },
    {
      "cell_type": "code",
      "execution_count": 9,
      "metadata": {
        "id": "C0ggWvoRQopg"
      },
      "outputs": [],
      "source": [
        "# The rest of the house coordinates\n",
        "x2 = model.NewIntVar(0, int(max(site.bounds)), 'x2')\n",
        "y1 = model.NewIntVar(0, int(max(site.bounds)), 'y1')\n",
        "y2 = model.NewIntVar(0, int(max(site.bounds)), 'y2')"
      ]
    },
    {
      "cell_type": "markdown",
      "metadata": {
        "id": "VbGuZifDQoph"
      },
      "source": [
        "Now let's add the relationship between the coordinates and tell our model that x2 - x1 = width"
      ]
    },
    {
      "cell_type": "code",
      "execution_count": 10,
      "metadata": {
        "id": "YeJiMb_7Qoph",
        "outputId": "324068bc-ba94-4213-e18c-e5f564ed5624",
        "colab": {
          "base_uri": "https://localhost:8080/"
        }
      },
      "outputs": [
        {
          "output_type": "execute_result",
          "data": {
            "text/plain": [
              "<ortools.sat.python.cp_model.Constraint at 0x7d5a29e38850>"
            ]
          },
          "metadata": {},
          "execution_count": 10
        }
      ],
      "source": [
        "model.Add(x2-x1==width)\n",
        "model.Add(y2-y1==depth)\n",
        "\n",
        "# Note that our house does not rotate at the moment. We are only placing it vertically."
      ]
    },
    {
      "cell_type": "code",
      "execution_count": 11,
      "metadata": {
        "id": "dColS42yQoph",
        "outputId": "a5c0a906-0363-43ea-ffde-7788b4ffb860",
        "colab": {
          "base_uri": "https://localhost:8080/"
        }
      },
      "outputs": [
        {
          "output_type": "execute_result",
          "data": {
            "text/plain": [
              "<ortools.sat.python.cp_model.Constraint at 0x7d5a29e390f0>"
            ]
          },
          "metadata": {},
          "execution_count": 11
        }
      ],
      "source": [
        "model.Add(x1 < int(site.bounds[2]))\n",
        "model.Add(y1 < int(site.bounds[3]))\n",
        "model.Add(x2 < int(site.bounds[2]))\n",
        "model.Add(y2 < int(site.bounds[3]))"
      ]
    },
    {
      "cell_type": "code",
      "execution_count": null,
      "metadata": {
        "id": "cdHL02n5Qoph"
      },
      "outputs": [],
      "source": [
        "model.Minimize(y2)"
      ]
    },
    {
      "cell_type": "code",
      "execution_count": 12,
      "metadata": {
        "id": "eZCoY7QkQoph",
        "outputId": "5d316110-98be-4224-e734-d99ed81f2df3",
        "colab": {
          "base_uri": "https://localhost:8080/"
        }
      },
      "outputs": [
        {
          "output_type": "execute_result",
          "data": {
            "text/plain": [
              "4"
            ]
          },
          "metadata": {},
          "execution_count": 12
        }
      ],
      "source": [
        "solver = cp_model.CpSolver()\n",
        "status = solver.Solve(model)\n",
        "status"
      ]
    },
    {
      "cell_type": "code",
      "execution_count": 13,
      "metadata": {
        "id": "UNNemMPVQoph",
        "outputId": "b94382b7-b316-4e72-b49d-14192cae26e9",
        "colab": {
          "base_uri": "https://localhost:8080/"
        }
      },
      "outputs": [
        {
          "output_type": "stream",
          "name": "stdout",
          "text": [
            "x1: 0\n",
            "x2: 150\n",
            "y1: 0\n",
            "y2: 50\n"
          ]
        }
      ],
      "source": [
        "print(\"x1:\", solver.Value(x1))\n",
        "print(\"x2:\", solver.Value(x2))\n",
        "print(\"y1:\", solver.Value(y1))\n",
        "print(\"y2:\", solver.Value(y2))"
      ]
    },
    {
      "cell_type": "code",
      "execution_count": 14,
      "metadata": {
        "id": "MrJW-GuiQoph"
      },
      "outputs": [],
      "source": [
        "house_location = Polygon([\n",
        "    (solver.Value(x1), solver.Value(y1)),\n",
        "    (solver.Value(x2), solver.Value(y1)),\n",
        "    (solver.Value(x2), solver.Value(y2)),\n",
        "    (solver.Value(x1), solver.Value(y2)),\n",
        "    (solver.Value(x1), solver.Value(y1))])"
      ]
    },
    {
      "cell_type": "code",
      "execution_count": null,
      "metadata": {
        "id": "IjEVrCVDQopi"
      },
      "outputs": [],
      "source": [
        "plt.plot(*site.exterior.xy)\n",
        "plt.plot(*house_location.exterior.xy)"
      ]
    },
    {
      "cell_type": "code",
      "execution_count": 16,
      "metadata": {
        "id": "7eHUX1YfQopi"
      },
      "outputs": [],
      "source": [
        "def plot_result(slvr):\n",
        "    print(\"x1:\", slvr.Value(x1))\n",
        "    print(\"x2:\", slvr.Value(x2))\n",
        "    print(\"y1:\", slvr.Value(y1))\n",
        "    print(\"y2:\", slvr.Value(y2))\n",
        "\n",
        "    house_location = Polygon([\n",
        "    (solver.Value(x1), solver.Value(y1)),\n",
        "    (solver.Value(x2), solver.Value(y1)),\n",
        "    (solver.Value(x2), solver.Value(y2)),\n",
        "    (solver.Value(x1), solver.Value(y2)),\n",
        "    (solver.Value(x1), solver.Value(y1))])\n",
        "\n",
        "    plt.plot(*site.exterior.xy)\n",
        "    plt.plot(*house_location.exterior.xy)\n"
      ]
    },
    {
      "cell_type": "markdown",
      "metadata": {
        "id": "AgQ_qq8NQopi"
      },
      "source": [
        "Let's adjust our constraints:"
      ]
    },
    {
      "cell_type": "code",
      "execution_count": 17,
      "metadata": {
        "id": "GyH8YDQmQopi",
        "outputId": "f371aa65-e1ec-4719-9d1a-31fc7a1ab3ef",
        "colab": {
          "base_uri": "https://localhost:8080/"
        }
      },
      "outputs": [
        {
          "output_type": "execute_result",
          "data": {
            "text/plain": [
              "<ortools.sat.python.cp_model.Constraint at 0x7d5a2c6efb20>"
            ]
          },
          "metadata": {},
          "execution_count": 17
        }
      ],
      "source": [
        "model = cp_model.CpModel()\n",
        "x1 = model.NewIntVar(0, int(max(site.bounds)), 'x1')\n",
        "x2 = model.NewIntVar(0, int(max(site.bounds)), 'x2')\n",
        "y1 = model.NewIntVar(0, int(max(site.bounds)), 'y1')\n",
        "y2 = model.NewIntVar(0, int(max(site.bounds)), 'y2')\n",
        "\n",
        "model.Add(x2-x1==width)\n",
        "model.Add(y2-y1==depth)\n",
        "\n",
        "model.Add(x1 < int(site.bounds[2]))\n",
        "model.Add(y1 < int(site.bounds[3]))\n",
        "model.Add(x2 < int(site.bounds[2]))\n",
        "model.Add(y2 < int(site.bounds[3]))"
      ]
    },
    {
      "cell_type": "code",
      "execution_count": 18,
      "metadata": {
        "id": "ClVtNmJeQopi"
      },
      "outputs": [],
      "source": [
        "x1_outside = model.NewBoolVar(\"x1_outside\")  # true if x1 > 70 -> in the question zone\n",
        "x2_outside = model.NewBoolVar(\"x2_outside\")  # true if x2 > 70 -> in the question zone"
      ]
    },
    {
      "cell_type": "code",
      "execution_count": 19,
      "metadata": {
        "id": "1Jpy8henQopi",
        "outputId": "0e753969-1954-40af-8d7c-4361b533d6d6",
        "colab": {
          "base_uri": "https://localhost:8080/"
        }
      },
      "outputs": [
        {
          "output_type": "execute_result",
          "data": {
            "text/plain": [
              "<ortools.sat.python.cp_model.Constraint at 0x7d5a28d43820>"
            ]
          },
          "metadata": {},
          "execution_count": 19
        }
      ],
      "source": [
        "model.Add(x1>=70).OnlyEnforceIf(x1_outside)\n",
        "model.Add(x1<70).OnlyEnforceIf(x1_outside.Not())\n",
        "model.Add(x2>=70).OnlyEnforceIf(x2_outside)\n",
        "model.Add(x2<70).OnlyEnforceIf(x2_outside.Not())"
      ]
    },
    {
      "cell_type": "code",
      "execution_count": 20,
      "metadata": {
        "id": "Ezs1UeDrQopi",
        "outputId": "636785b1-0e5a-4fa5-dc5a-7aa6462a3c61",
        "colab": {
          "base_uri": "https://localhost:8080/"
        }
      },
      "outputs": [
        {
          "output_type": "execute_result",
          "data": {
            "text/plain": [
              "<ortools.sat.python.cp_model.Constraint at 0x7d5a28d43640>"
            ]
          },
          "metadata": {},
          "execution_count": 20
        }
      ],
      "source": [
        "model.Add(y1>=50).OnlyEnforceIf(x1_outside)  # if x coordinate is in the \"outside zone\" y coordinate can only be from 50 to 150\n",
        "model.Add(y1>=50).OnlyEnforceIf(x2_outside)\n",
        "model.Add(y2>=50).OnlyEnforceIf(x1_outside)\n",
        "model.Add(y2>=50).OnlyEnforceIf(x2_outside)"
      ]
    },
    {
      "cell_type": "code",
      "execution_count": 21,
      "metadata": {
        "id": "BbaQY2DJQopj",
        "outputId": "d6313324-44a9-4fd4-e6aa-df746b30618d",
        "colab": {
          "base_uri": "https://localhost:8080/"
        }
      },
      "outputs": [
        {
          "output_type": "execute_result",
          "data": {
            "text/plain": [
              "4"
            ]
          },
          "metadata": {},
          "execution_count": 21
        }
      ],
      "source": [
        "model.Minimize(y2)\n",
        "solver = cp_model.CpSolver()\n",
        "status = solver.Solve(model)\n",
        "status"
      ]
    },
    {
      "cell_type": "code",
      "execution_count": 22,
      "metadata": {
        "id": "sh4cTiNBQopj",
        "outputId": "8ebb3782-631a-41d5-ec42-bffce9e8cc87",
        "colab": {
          "base_uri": "https://localhost:8080/",
          "height": 36
        }
      },
      "outputs": [
        {
          "output_type": "execute_result",
          "data": {
            "text/plain": [
              "'OPTIMAL'"
            ],
            "application/vnd.google.colaboratory.intrinsic+json": {
              "type": "string"
            }
          },
          "metadata": {},
          "execution_count": 22
        }
      ],
      "source": [
        "solver.status_name()"
      ]
    },
    {
      "cell_type": "code",
      "execution_count": 23,
      "metadata": {
        "id": "0dkblHqfQopj",
        "outputId": "409e72a1-71d0-498f-f61c-977979b23eba",
        "colab": {
          "base_uri": "https://localhost:8080/",
          "height": 499
        }
      },
      "outputs": [
        {
          "output_type": "stream",
          "name": "stdout",
          "text": [
            "x1: 69\n",
            "x2: 219\n",
            "y1: 50\n",
            "y2: 100\n"
          ]
        },
        {
          "output_type": "display_data",
          "data": {
            "text/plain": [
              "<Figure size 640x480 with 1 Axes>"
            ],
            "image/png": "[encoded data removed]"
          },
          "metadata": {}
        }
      ],
      "source": [
        "plot_result(solver)"
      ]
    },
    {
      "cell_type": "markdown",
      "metadata": {
        "id": "a-dhkeGDQopj"
      },
      "source": [
        "### 🧩 Task I - multiple houses"
      ]
    },
    {
      "cell_type": "markdown",
      "metadata": {
        "id": "uH--00A5Qopj"
      },
      "source": [
        "We learnt how to place a single house on a given site. Let's say we have multiple houses and our goal is to fit as many as possible on a site.\n",
        "\n",
        "Assume that there are no regulations on distance between the houses.\n",
        "\n",
        "__Hint:__\n",
        "* take a look at [2d bin packing](https://yetanothermathprogrammingconsultant.blogspot.com/2021/02/2d-bin-packing-with-google-or-tools-cp.html), feel free to adjust the code\n",
        "* use [interval var](https://developers.google.com/optimization/reference/python/sat/python/cp_model#newintervalvar)\n",
        "* use [AddNoOverlap2D](https://developers.google.com/optimization/reference/python/sat/python/cp_model#addnooverlap2d)"
      ]
    },
    {
      "cell_type": "code",
      "execution_count": 24,
      "metadata": {
        "id": "W3O03VhUQopj"
      },
      "outputs": [],
      "source": [
        "# site_coords = [(0, 0), (70, 0), (70, 50), (250, 50), (250, 150), (0, 150), (0,0)]\n",
        "site_coords = [(0,0), (200, 0), (200, 400), (0, 400), (0,0)]  # simplified version"
      ]
    },
    {
      "cell_type": "code",
      "execution_count": 25,
      "metadata": {
        "id": "tH6FYwcRQopj"
      },
      "outputs": [],
      "source": [
        "# houses are presented as width and height\n",
        "houses = [\n",
        "    [20, 40],\n",
        "    [25, 40],\n",
        "    [70, 100],\n",
        "    [75, 30],\n",
        "    [30, 30],\n",
        "    [30, 30],\n",
        "    [12, 25],\n",
        "    [12, 20],\n",
        "    [40, 20],\n",
        "    [40, 30],\n",
        "    [70, 30],\n",
        "    [12, 25],\n",
        "    [12, 20],\n",
        "    [40, 20],\n",
        "    [40, 30],\n",
        "    [70, 30],\n",
        "]"
      ]
    },
    {
      "cell_type": "markdown",
      "metadata": {
        "id": "DrguzjDRQopk"
      },
      "source": [
        "To get you started, we initiate the model and add a variable for each house that shows whether it is placed or not:"
      ]
    },
    {
      "cell_type": "code",
      "execution_count": 26,
      "metadata": {
        "id": "8qKqC3JNQopk",
        "outputId": "a07e1d8c-a9fa-4f85-bac4-f076764cdb4f",
        "colab": {
          "base_uri": "https://localhost:8080/"
        }
      },
      "outputs": [
        {
          "output_type": "execute_result",
          "data": {
            "text/plain": [
              "placed_0(0..1)"
            ]
          },
          "metadata": {},
          "execution_count": 26
        }
      ],
      "source": [
        "model = cp_model.CpModel()\n",
        "placed_vars = []\n",
        "\n",
        "for house in range(len(houses)):\n",
        "    placed_vars.append(model.NewBoolVar(\"placed_{}\".format(house)))\n",
        "\n",
        "# take a look at it:\n",
        "placed_vars[0]"
      ]
    },
    {
      "cell_type": "markdown",
      "metadata": {
        "id": "-5GMO838Qopu"
      },
      "source": [
        "Building variables for one house (let's take number 1):"
      ]
    },
    {
      "cell_type": "markdown",
      "metadata": {
        "id": "3S77MIfbQopu"
      },
      "source": [
        "![Variables explanation](https://github.com/STASYA00/IAAC2024_tutorials/blob/main/.assets/optimization/1.jpg?raw=1)"
      ]
    },
    {
      "cell_type": "code",
      "execution_count": null,
      "metadata": {
        "id": "08eRpoDBQopu"
      },
      "outputs": [],
      "source": [
        "MAX_SITE_WIDTH = max([s[0] for s in site_coords])\n",
        "MAX_SITE_HEIGHT = max([s[1] for s in site_coords])\n",
        "\n",
        "house_number = 1\n",
        "\n",
        "x1 = model.NewIntVar(0,  MAX_SITE_WIDTH, 'x1_{}'.format(house_number))\n",
        "x2 = model.NewIntVar(0,  MAX_SITE_WIDTH, 'x1_{}'.format(house_number))\n",
        "y1 = model.NewIntVar(0,  MAX_SITE_HEIGHT, 'y1_{}'.format(house_number))\n",
        "y2 = model.NewIntVar(0,  MAX_SITE_HEIGHT, 'y1_{}'.format(house_number))\n"
      ]
    },
    {
      "cell_type": "code",
      "execution_count": null,
      "metadata": {
        "id": "AP-CMRhcQopv"
      },
      "outputs": [],
      "source": [
        "# interval variables\n",
        "# Arguments: start, size, end, whether it is placed, variable name\n",
        "# https://developers.google.com/optimization/reference/python/sat/python/cp_model#newoptionalintervalvar\n",
        "\n",
        "width_interval = model.NewOptionalIntervalVar(x1, houses[house_number][0], x2,\n",
        "                                              placed_vars[house_number],\n",
        "                                              'width_interval_{}'.format(house_number))\n",
        "\n",
        "depth_interval = model.NewOptionalIntervalVar(y1, houses[house_number][1], y2,\n",
        "                                              placed_vars[house_number],\n",
        "                                              'depth_interval_{}'.format(house_number))\n"
      ]
    },
    {
      "cell_type": "markdown",
      "metadata": {
        "id": "4CIgFmQnQopv"
      },
      "source": [
        "Complete the model with all the houses."
      ]
    },
    {
      "cell_type": "code",
      "execution_count": null,
      "metadata": {
        "id": "0AA7bOkyQopv"
      },
      "outputs": [],
      "source": [
        "# your code here\n",
        "house_widths = []\n",
        "house_depths = []"
      ]
    },
    {
      "cell_type": "markdown",
      "metadata": {
        "id": "8ZABiWsFQopv"
      },
      "source": [
        "![Overlap](https://github.com/STASYA00/IAAC2024_tutorials/blob/main/.assets/optimization/2.jpg?raw=1)"
      ]
    },
    {
      "cell_type": "code",
      "execution_count": null,
      "metadata": {
        "id": "wWtiZzB0Qopv",
        "outputId": "12c075be-cc64-440e-a640-4e821dee7286"
      },
      "outputs": [
        {
          "data": {
            "text/plain": [
              "<ortools.sat.python.cp_model.Constraint at 0x7fdadf0883d0>"
            ]
          },
          "execution_count": 86,
          "metadata": {},
          "output_type": "execute_result"
        }
      ],
      "source": [
        "model.AddNoOverlap2D(house_widths, house_depths)"
      ]
    },
    {
      "cell_type": "markdown",
      "metadata": {
        "id": "HEZQ6xHTQopv"
      },
      "source": [
        "Run the solver and visualize the solution"
      ]
    },
    {
      "cell_type": "code",
      "execution_count": null,
      "metadata": {
        "id": "OAQctOlyQopv"
      },
      "outputs": [],
      "source": [
        "# your code here"
      ]
    },
    {
      "cell_type": "markdown",
      "metadata": {
        "id": "ch9fvtcMQopv"
      },
      "source": [
        "### 🧩 Task II - adding the roads"
      ]
    },
    {
      "cell_type": "markdown",
      "metadata": {
        "id": "Zcl6D3z3Qopw"
      },
      "source": [
        "Our houses are placed in a dense grid. Add roads, bike lanes and walkways as constraints to our model"
      ]
    },
    {
      "cell_type": "code",
      "execution_count": null,
      "metadata": {
        "id": "XDMTkNVaQopw"
      },
      "outputs": [],
      "source": [
        "# your code here"
      ]
    },
    {
      "cell_type": "code",
      "execution_count": null,
      "metadata": {
        "id": "_86boHVIQopw"
      },
      "outputs": [],
      "source": []
    }
  ],
  "metadata": {
    "kernelspec": {
      "display_name": "iaac2024",
      "language": "python",
      "name": "python3"
    },
    "language_info": {
      "codemirror_mode": {
        "name": "ipython",
        "version": 3
      },
      "file_extension": ".py",
      "mimetype": "text/x-python",
      "name": "python",
      "nbconvert_exporter": "python",
      "pygments_lexer": "ipython3",
      "version": "3.10.6"
    },
    "colab": {
      "provenance": [],
      "include_colab_link": true
    }
  },
  "nbformat": 4,
  "nbformat_minor": 0
}